{
 "cells": [
  {
   "cell_type": "markdown",
   "metadata": {},
   "source": [
    "# Correlations\n",
    "\n",
    "NB/ Observations are coming from the AlphaVantage close price, where the adjusted close maybe more appropropriate for a total return. Shouldn't make a meaningful difference here as correlations won't be materially impacted over 1week."
   ]
  },
  {
   "cell_type": "markdown",
   "metadata": {},
   "source": [
    "## Principal Drivers Index\n",
    "The PDI takes 10 US listed ETFs and generates a timeseries of the variance explained by the principal eigenvector; correlations from 26wk rolling returns."
   ]
  },
  {
   "cell_type": "code",
   "execution_count": 4,
   "metadata": {
    "tags": [
     "hidecode"
    ]
   },
   "outputs": [
    {
     "data": {
      "text/html": [
       "<object data=\"https://djmcnay.github.io/pandachartstore/PlotlyHTMLexJS/principaldrivers.html\" \n",
       "        width=\"645\"\n",
       "        height=\"525\">\n",
       "</object>"
      ],
      "text/plain": [
       "<IPython.core.display.HTML object>"
      ]
     },
     "metadata": {},
     "output_type": "display_data"
    }
   ],
   "source": [
    "%%html\n",
    "<object data=\"https://djmcnay.github.io/pandachartstore/PlotlyHTMLexJS/principaldrivers.html\" \n",
    "        width=\"645\"\n",
    "        height=\"525\">\n",
    "</object>"
   ]
  },
  {
   "cell_type": "markdown",
   "metadata": {},
   "source": [
    "## Duo-Dendrogram\n",
    "We present two dendrograms which both use the same universe of US listed ETFs, but over different time horizons. Construction uses the [SciPy](https://docs.scipy.org/doc/scipy/reference/generated/scipy.cluster.hierarchy.dendrogram.html) and defaults to Euclidean distance, although we can run other clustering methods. We get a sense of how well clustering performs using the Cophenetic Correlation Coefficient,  c . This correlates actual pairwise distances of all samples to those implied by the hierarchical clustering. The closer  c  is to 1, the better the clustering preserves the original distances. Generally  c  > 0.7 is consistered a good cluster fit.\n",
    "\n",
    "A useful [blog](https://silburt.github.io/blog/stock_correlation.html)"
   ]
  },
  {
   "cell_type": "code",
   "execution_count": 10,
   "metadata": {
    "tags": [
     "hidecode"
    ]
   },
   "outputs": [
    {
     "data": {
      "text/html": [
       "<object data=\"https://djmcnay.github.io/pandachartstore/matplotlib/duodenrogram_etfs.png\" \n",
       "        width=\"650\"\n",
       "        height=\"300\">\n",
       "</object>"
      ],
      "text/plain": [
       "<IPython.core.display.HTML object>"
      ]
     },
     "metadata": {},
     "output_type": "display_data"
    }
   ],
   "source": [
    "%%html\n",
    "<object data=\"https://djmcnay.github.io/pandachartstore/matplotlib/duodenrogram_etfs.png\" \n",
    "        width=\"650\"\n",
    "        height=\"300\">\n",
    "</object>"
   ]
  },
  {
   "cell_type": "code",
   "execution_count": null,
   "metadata": {},
   "outputs": [],
   "source": []
  }
 ],
 "metadata": {
  "celltoolbar": "Tags",
  "kernelspec": {
   "display_name": "Python 3",
   "language": "python",
   "name": "python3"
  },
  "language_info": {
   "codemirror_mode": {
    "name": "ipython",
    "version": 3
   },
   "file_extension": ".py",
   "mimetype": "text/x-python",
   "name": "python",
   "nbconvert_exporter": "python",
   "pygments_lexer": "ipython3",
   "version": "3.7.3"
  }
 },
 "nbformat": 4,
 "nbformat_minor": 2
}
