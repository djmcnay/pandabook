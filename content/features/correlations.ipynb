{
 "cells": [
  {
   "cell_type": "markdown",
   "metadata": {},
   "source": [
    "# Correlations"
   ]
  },
  {
   "cell_type": "markdown",
   "metadata": {},
   "source": [
    "## Principal Drivers Index\n",
    "The PDI takes 10 US listed ETFs and generates a timeseries of the variance explained by the principal eigenvector; correlations from 26wk rolling returns."
   ]
  },
  {
   "cell_type": "code",
   "execution_count": 4,
   "metadata": {
    "tags": [
     "hidecode"
    ]
   },
   "outputs": [
    {
     "data": {
      "text/html": [
       "<object data=\"https://djmcnay.github.io/pandachartstore/PlotlyHTMLexJS/principaldrivers.html\" \n",
       "        width=\"645\"\n",
       "        height=\"525\">\n",
       "</object>"
      ],
      "text/plain": [
       "<IPython.core.display.HTML object>"
      ]
     },
     "metadata": {},
     "output_type": "display_data"
    }
   ],
   "source": [
    "%%html\n",
    "<object data=\"https://djmcnay.github.io/pandachartstore/PlotlyHTMLexJS/principaldrivers.html\" \n",
    "        width=\"645\"\n",
    "        height=\"525\">\n",
    "</object>"
   ]
  },
  {
   "cell_type": "markdown",
   "metadata": {},
   "source": [
    "## Duo-Dendrogram\n",
    "Dendrograms here use a wider universe of US listed ETFs."
   ]
  },
  {
   "cell_type": "markdown",
   "metadata": {},
   "source": [
    "![](\"https://djmcnay.github.io/pandachartstore/matplotlib/duodenrogram_etfs.png\")"
   ]
  },
  {
   "cell_type": "code",
   "execution_count": 10,
   "metadata": {},
   "outputs": [
    {
     "data": {
      "text/html": [
       "<object data=\"https://djmcnay.github.io/pandachartstore/matplotlib/duodenrogram_etfs.png\" \n",
       "        width=\"650\"\n",
       "        height=\"300\">\n",
       "</object>"
      ],
      "text/plain": [
       "<IPython.core.display.HTML object>"
      ]
     },
     "metadata": {},
     "output_type": "display_data"
    }
   ],
   "source": [
    "%%html\n",
    "<object data=\"https://djmcnay.github.io/pandachartstore/matplotlib/duodenrogram_etfs.png\" \n",
    "        width=\"650\"\n",
    "        height=\"300\">\n",
    "</object>"
   ]
  },
  {
   "cell_type": "code",
   "execution_count": null,
   "metadata": {},
   "outputs": [],
   "source": []
  }
 ],
 "metadata": {
  "celltoolbar": "Tags",
  "kernelspec": {
   "display_name": "Python 3",
   "language": "python",
   "name": "python3"
  },
  "language_info": {
   "codemirror_mode": {
    "name": "ipython",
    "version": 3
   },
   "file_extension": ".py",
   "mimetype": "text/x-python",
   "name": "python",
   "nbconvert_exporter": "python",
   "pygments_lexer": "ipython3",
   "version": "3.7.3"
  }
 },
 "nbformat": 4,
 "nbformat_minor": 2
}
