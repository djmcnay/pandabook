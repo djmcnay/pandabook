{
 "cells": [
  {
   "cell_type": "markdown",
   "metadata": {},
   "source": [
    "# Correlations\n",
    "\n",
    "NB/ Observations are coming from the AlphaVantage close price, where the adjusted close maybe more appropropriate for a total return. Shouldn't make a meaningful difference here as correlations won't be materially impacted over 1week."
   ]
  },
  {
   "attachments": {},
   "cell_type": "markdown",
   "metadata": {},
   "source": [
    "## Principal Drivers Index\n",
    "The Principal Drivers Index takes 10 US listed ETFs and shows a timeseries of the percentage variance explained by the principal eigenvector - intuitively the percentage of returns that can be explained by the most important factor. PCA correlation matrix uses 26-weeks of price data, sourced from AlphaVantage."
   ]
  },
  {
   "cell_type": "code",
   "execution_count": 4,
   "metadata": {
    "tags": [
     "hidecode"
    ]
   },
   "outputs": [
    {
     "data": {
      "text/html": [
       "<object data=\"https://djmcnay.github.io/pandachartstore/PlotlyHTMLexJS/principaldrivers.html\" \n",
       "        width=\"645\"\n",
       "        height=\"525\">\n",
       "</object>"
      ],
      "text/plain": [
       "<IPython.core.display.HTML object>"
      ]
     },
     "metadata": {},
     "output_type": "display_data"
    }
   ],
   "source": [
    "%%html\n",
    "<object data=\"https://djmcnay.github.io/pandachartstore/PlotlyHTMLexJS/principaldrivers.html\" \n",
    "        width=\"645\"\n",
    "        height=\"525\">\n",
    "</object>"
   ]
  },
  {
   "attachments": {},
   "cell_type": "markdown",
   "metadata": {
    "tags": [
     "hidecode"
    ]
   },
   "source": [
    "For a more detailed explanation of PCA and Principal Drivers Index I’ve written a blog article for Medium.\n",
    "\n",
    "Several selection choices will have material impacts the PDI, such as:\n",
    "* Asset Mix - we use a sample of US ETFs and futures available on AlphaVanatage\n",
    "* Lookback window for returns - default is 13 weeks\n",
    "* Minimum Asset Count requirement - in order to extend the PDI timeseries we don't require the full asset mix going back historically; we set the threshold at having data for a min. of 50% of current universe \n",
    "\n",
    "Sebastian Raschka has written two very useful blog pieces [here](https://plot.ly/ipython-notebooks/principal-component-analysis/) and [here](http://sebastianraschka.com/Articles/2014_pca_step_by_step.html) which cover PCA with Python"
   ]
  },
  {
   "cell_type": "markdown",
   "metadata": {},
   "source": [
    "## Duo-Dendrogram\n",
    "We present a double dendrogram, where each dendrogram uses the same US listed ETF universe but different time-horizons to construct the input correlation matrix; by default we use 260 & 13 weeks."
   ]
  },
  {
   "cell_type": "code",
   "execution_count": 10,
   "metadata": {
    "tags": [
     "hidecode"
    ]
   },
   "outputs": [
    {
     "data": {
      "text/html": [
       "<object data=\"https://djmcnay.github.io/pandachartstore/matplotlib/duodenrogram_etfs.png\" \n",
       "        width=\"650\"\n",
       "        height=\"300\">\n",
       "</object>"
      ],
      "text/plain": [
       "<IPython.core.display.HTML object>"
      ]
     },
     "metadata": {},
     "output_type": "display_data"
    }
   ],
   "source": [
    "%%html\n",
    "<object data=\"https://djmcnay.github.io/pandachartstore/matplotlib/duodenrogram_etfs.png\" \n",
    "        width=\"650\"\n",
    "        height=\"300\">\n",
    "</object>"
   ]
  },
  {
   "cell_type": "markdown",
   "metadata": {
    "tags": [
     "hidecode"
    ]
   },
   "source": [
    "A dendrogram is a tree diagram to help with hierarchical organisation. We cluster correlations using the agglomerate hierarchical clustering technique, which avoids having to estimate in advance the number of clusters. Agglomerate Clustering first assigns each data point into its own cluster, and gradually merges clusters until only one remains. \n",
    "\n",
    "The chart is constructed using matplotlib using the [linkage method from SciPy cluster hierarchy](https://docs.scipy.org/doc/scipy/reference/generated/scipy.cluster.hierarchy.dendrogram.html) and the default setting of Euclidean distance; however the underlying code can be updated to use other methods like Ward or single.\n",
    "\n",
    "We can get a sense of how well clustering performs using the Cophenetic Correlation Coefficient,  c . This correlates actual pairwise distances of all samples to those implied by the hierarchical clustering. The closer  c  is to 1, the better the clustering preserves the original distances. Generally  c  > 0.7 is consistered a good cluster fit.\n",
    "\n",
    "A useful [blog](https://silburt.github.io/blog/stock_correlation.html)"
   ]
  }
 ],
 "metadata": {
  "celltoolbar": "Tags",
  "kernelspec": {
   "display_name": "Python 3",
   "language": "python",
   "name": "python3"
  },
  "language_info": {
   "codemirror_mode": {
    "name": "ipython",
    "version": 3
   },
   "file_extension": ".py",
   "mimetype": "text/x-python",
   "name": "python",
   "nbconvert_exporter": "python",
   "pygments_lexer": "ipython3",
   "version": "3.7.3"
  }
 },
 "nbformat": 4,
 "nbformat_minor": 2
}
