{
 "cells": [
  {
   "cell_type": "markdown",
   "metadata": {},
   "source": [
    "# Leading Indicators"
   ]
  },
  {
   "cell_type": "markdown",
   "metadata": {},
   "source": [
    "## OECD Normalised CLI"
   ]
  },
  {
   "cell_type": "code",
   "execution_count": 10,
   "metadata": {
    "tags": [
     "hidecode"
    ]
   },
   "outputs": [
    {
     "data": {
      "text/html": [
       "<object data=\"https://djmcnay.github.io/pandachartstore/PlotlyHTMLexJS/cli_dm.html\" \n",
       "        width=\"645\"\n",
       "        height=\"525\">\n",
       "</object>"
      ],
      "text/plain": [
       "<IPython.core.display.HTML object>"
      ]
     },
     "metadata": {},
     "output_type": "display_data"
    }
   ],
   "source": [
    "%%html\n",
    "<object data=\"https://djmcnay.github.io/pandachartstore/PlotlyHTMLexJS/cli_dm.html\" \n",
    "        width=\"645\"\n",
    "        height=\"525\">\n",
    "</object>"
   ]
  },
  {
   "cell_type": "code",
   "execution_count": 11,
   "metadata": {
    "tags": [
     "hidecode"
    ]
   },
   "outputs": [
    {
     "data": {
      "text/html": [
       "<object data=\"https://djmcnay.github.io/pandachartstore/PlotlyHTMLexJS/cli_em.html\" \n",
       "        width=\"645\"\n",
       "        height=\"525\">\n",
       "</object>"
      ],
      "text/plain": [
       "<IPython.core.display.HTML object>"
      ]
     },
     "metadata": {},
     "output_type": "display_data"
    }
   ],
   "source": [
    "%%html\n",
    "<object data=\"https://djmcnay.github.io/pandachartstore/PlotlyHTMLexJS/cli_em.html\" \n",
    "        width=\"645\"\n",
    "        height=\"525\">\n",
    "</object>"
   ]
  },
  {
   "cell_type": "code",
   "execution_count": null,
   "metadata": {},
   "outputs": [],
   "source": []
  }
 ],
 "metadata": {
  "celltoolbar": "Tags",
  "kernelspec": {
   "display_name": "Python 3",
   "language": "python",
   "name": "python3"
  },
  "language_info": {
   "codemirror_mode": {
    "name": "ipython",
    "version": 3
   },
   "file_extension": ".py",
   "mimetype": "text/x-python",
   "name": "python",
   "nbconvert_exporter": "python",
   "pygments_lexer": "ipython3",
   "version": "3.7.3"
  }
 },
 "nbformat": 4,
 "nbformat_minor": 2
}
