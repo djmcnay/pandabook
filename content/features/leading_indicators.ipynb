{
 "cells": [
  {
   "cell_type": "markdown",
   "metadata": {},
   "source": [
    "# Leading Indicators"
   ]
  },
  {
   "cell_type": "markdown",
   "metadata": {},
   "source": [
    "## OECD Normalised CLI\n",
    "The [OECD Composite Leading Indicators](https://stats.oecd.org/index.aspx?queryid=6617) are calibrated to lead the *\"reference series\"* by approximately 4-8 months, although they are published with a 2-month lag for data collection and also subject to revision; for more information visit the [official page](http://www.oecd.org/sdd/leading-indicators/) "
   ]
  },
  {
   "cell_type": "code",
   "execution_count": 16,
   "metadata": {
    "tags": [
     "hidecode"
    ]
   },
   "outputs": [
    {
     "data": {
      "text/html": [
       "<object data=\"https://djmcnay.github.io/pandachartstore/PlotlyHTMLexJS/cli_dm.html\" \n",
       "        width=\"645\" height=\"450\"></object>\n",
       "\n",
       "<object data=\"https://djmcnay.github.io/pandachartstore/PlotlyHTMLexJS/cli_em.html\" \n",
       "        width=\"645\" height=\"450\"></object>"
      ],
      "text/plain": [
       "<IPython.core.display.HTML object>"
      ]
     },
     "metadata": {},
     "output_type": "display_data"
    }
   ],
   "source": [
    "%%html\n",
    "<object data=\"https://djmcnay.github.io/pandachartstore/PlotlyHTMLexJS/cli_dm.html\" \n",
    "        width=\"645\" height=\"450\"></object>\n",
    "\n",
    "<object data=\"https://djmcnay.github.io/pandachartstore/PlotlyHTMLexJS/cli_em.html\" \n",
    "        width=\"645\" height=\"450\"></object>"
   ]
  },
  {
   "cell_type": "code",
   "execution_count": 15,
   "metadata": {
    "tags": [
     "hidecode"
    ]
   },
   "outputs": [
    {
     "data": {
      "text/html": [
       "<object data=\"https://djmcnay.github.io/pandachartstore/PlotlyHTMLexJS/cli_dm_swirlygram.html\" \n",
       "        width=\"645\" height=\"500\"></object>\n",
       "<object data=\"https://djmcnay.github.io/pandachartstore/PlotlyHTMLexJS/cli_em_swirlygram.html\"\n",
       "        width=\"645\" height=\"500\"></object>"
      ],
      "text/plain": [
       "<IPython.core.display.HTML object>"
      ]
     },
     "metadata": {},
     "output_type": "display_data"
    }
   ],
   "source": [
    "%%html\n",
    "<object data=\"https://djmcnay.github.io/pandachartstore/PlotlyHTMLexJS/cli_dm_swirlygram.html\" \n",
    "        width=\"645\" height=\"500\"></object>\n",
    "<object data=\"https://djmcnay.github.io/pandachartstore/PlotlyHTMLexJS/cli_em_swirlygram.html\"\n",
    "        width=\"645\" height=\"500\"></object>"
   ]
  },
  {
   "cell_type": "code",
   "execution_count": null,
   "metadata": {},
   "outputs": [],
   "source": []
  }
 ],
 "metadata": {
  "celltoolbar": "Tags",
  "kernelspec": {
   "display_name": "Python 3",
   "language": "python",
   "name": "python3"
  },
  "language_info": {
   "codemirror_mode": {
    "name": "ipython",
    "version": 3
   },
   "file_extension": ".py",
   "mimetype": "text/x-python",
   "name": "python",
   "nbconvert_exporter": "python",
   "pygments_lexer": "ipython3",
   "version": "3.7.3"
  }
 },
 "nbformat": 4,
 "nbformat_minor": 2
}
