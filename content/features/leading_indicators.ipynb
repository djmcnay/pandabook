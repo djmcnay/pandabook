{
 "cells": [
  {
   "cell_type": "markdown",
   "metadata": {},
   "source": [
    "# Leading Indicators"
   ]
  },
  {
   "cell_type": "markdown",
   "metadata": {},
   "source": [
    "## OECD Normalised CLI\n",
    "The OECD Composite Leading Indicators are published monthly, with a 2-month lag, as part of the [Monthly Economic Indicators](https://stats.oecd.org/index.aspx?queryid=6617). According to the OECD:\n",
    "\n",
    "> The [composite leading indicator (CLI)](https://data.oecd.org/leadind/composite-leading-indicator-cli.htm) is designed to provide early signals of turning points in business cycles showing fluctuation of the economic activity around its long term potential level. CLIs show short-term economic movements in qualitative rather than quantitative terms.\n",
    "\n",
    "Practically they are calibrated to lead the *\"reference series\"* by approximately 4-8 months"
   ]
  },
  {
   "cell_type": "code",
   "execution_count": 17,
   "metadata": {
    "tags": [
     "hidecode"
    ]
   },
   "outputs": [
    {
     "data": {
      "text/html": [
       "<object data=\"https://djmcnay.github.io/pandachartstore/PlotlyHTMLexJS/cli_dm.html\" \n",
       "        width=\"645\" height=\"450\"></object>\n",
       "\n",
       "<object data=\"https://djmcnay.github.io/pandachartstore/PlotlyHTMLexJS/cli_em.html\" \n",
       "        width=\"645\" height=\"450\"></object>"
      ],
      "text/plain": [
       "<IPython.core.display.HTML object>"
      ]
     },
     "metadata": {},
     "output_type": "display_data"
    }
   ],
   "source": [
    "%%html\n",
    "<object data=\"https://djmcnay.github.io/pandachartstore/PlotlyHTMLexJS/cli_dm.html\" \n",
    "        width=\"645\" height=\"450\"></object>\n",
    "\n",
    "<object data=\"https://djmcnay.github.io/pandachartstore/PlotlyHTMLexJS/cli_em.html\" \n",
    "        width=\"645\" height=\"450\"></object>"
   ]
  },
  {
   "cell_type": "markdown",
   "metadata": {},
   "source": [
    "## CLI Swirlygram\n",
    "Here we present the absolute level of the CLI series (adjusted around zero) and the 3-month change in the CLI level to get an indication of the direction the OECD CLI is trending and to make it easier to spot turning points. Credit to [CBS](https://www.cbs.nl/en-gb) from whom I originally got the idea, although I can no longer find the specific paper."
   ]
  },
  {
   "cell_type": "code",
   "execution_count": 15,
   "metadata": {
    "tags": [
     "hidecode"
    ]
   },
   "outputs": [
    {
     "data": {
      "text/html": [
       "<object data=\"https://djmcnay.github.io/pandachartstore/PlotlyHTMLexJS/cli_dm_swirlygram.html\" \n",
       "        width=\"645\" height=\"500\"></object>\n",
       "<object data=\"https://djmcnay.github.io/pandachartstore/PlotlyHTMLexJS/cli_em_swirlygram.html\"\n",
       "        width=\"645\" height=\"500\"></object>"
      ],
      "text/plain": [
       "<IPython.core.display.HTML object>"
      ]
     },
     "metadata": {},
     "output_type": "display_data"
    }
   ],
   "source": [
    "%%html\n",
    "<object data=\"https://djmcnay.github.io/pandachartstore/PlotlyHTMLexJS/cli_dm_swirlygram.html\" \n",
    "        width=\"645\" height=\"500\"></object>\n",
    "<object data=\"https://djmcnay.github.io/pandachartstore/PlotlyHTMLexJS/cli_em_swirlygram.html\"\n",
    "        width=\"645\" height=\"500\"></object>"
   ]
  },
  {
   "cell_type": "markdown",
   "metadata": {},
   "source": [
    "## Animated Swirlygram\n",
    "From the OECD website: \n",
    ">The OECD CLI system is based on the \"growth cycle\" approach, where business cycles and turning points are measured and identified in the deviation-from-trend series. The Gross Domestic Product (GDP) is used as the reference for identification of turning points in the growth cycle for all countries, except for China for which the OECD relies on the value added of industry at 1995 prices.\n",
    "\n",
    "We want to be able view the effectiveness of the OECD CLI at tracking it's [\"reference\"](https://www.oecd.org/sdd/leading-indicators/oecdcompositeleadingindicatorsreferenceturningpointsandcomponentseries.htm) series. Our animated swirlygram below shows the OECD CLI vs. the OECD Normalised GDP series (with a 6-month lead). **NB/** this is *\"self contained\"* example which seriously limits interactivity, however the same code can be used for a more dynamic version (including different reference series, lead times etc...)"
   ]
  },
  {
   "cell_type": "code",
   "execution_count": 3,
   "metadata": {
    "tags": [
     "hidecode"
    ]
   },
   "outputs": [
    {
     "data": {
      "text/html": [
       "<object data=\"https://djmcnay.github.io/pandachartstore/PlotlyHTMLexJS/cli_animated_swirlygram.html\"\n",
       "        width=\"645\" height=\"500\"></object>"
      ],
      "text/plain": [
       "<IPython.core.display.HTML object>"
      ]
     },
     "metadata": {},
     "output_type": "display_data"
    }
   ],
   "source": [
    "%%html\n",
    "<object data=\"https://djmcnay.github.io/pandachartstore/PlotlyHTMLexJS/cli_animated_swirlygram.html\"\n",
    "        width=\"645\" height=\"500\"></object>"
   ]
  },
  {
   "cell_type": "code",
   "execution_count": null,
   "metadata": {},
   "outputs": [],
   "source": []
  }
 ],
 "metadata": {
  "celltoolbar": "Tags",
  "kernelspec": {
   "display_name": "Python 3",
   "language": "python",
   "name": "python3"
  },
  "language_info": {
   "codemirror_mode": {
    "name": "ipython",
    "version": 3
   },
   "file_extension": ".py",
   "mimetype": "text/x-python",
   "name": "python",
   "nbconvert_exporter": "python",
   "pygments_lexer": "ipython3",
   "version": "3.7.3"
  }
 },
 "nbformat": 4,
 "nbformat_minor": 2
}
