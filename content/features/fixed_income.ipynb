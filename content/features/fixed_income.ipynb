{
 "cells": [
  {
   "cell_type": "markdown",
   "metadata": {},
   "source": [
    "# Fixed Income"
   ]
  },
  {
   "cell_type": "markdown",
   "metadata": {},
   "source": [
    "### Pokemon Fair Value Bond Yields\n",
    "Fair Value of the 10-year nominal bond estimated as a multi-variate regression.\n",
    "\n",
    "$ FV_{x} = \\beta_{x,0} \n",
    "+\\beta_{x,1}\\times \\text{Short-Rates} \n",
    "+\\beta_{x,2} \\times \\text{Inflation}\n",
    "+\\beta_{x,3} \\times \\text{Growth}\n",
    "+\\beta_{x,4}\\times \\text{Global Factor}\n",
    "+\\epsilon_{x}$"
   ]
  },
  {
   "cell_type": "code",
   "execution_count": 27,
   "metadata": {
    "tags": [
     "hidecode"
    ]
   },
   "outputs": [
    {
     "data": {
      "text/html": [
       "<object data=\"https://djmcnay.github.io/pandachartstore/PlotlyHTMLexJS/pokemon.html\" \n",
       "        width=\"650\"\n",
       "        height=\"400\">\n",
       "</object>"
      ],
      "text/plain": [
       "<IPython.core.display.HTML object>"
      ]
     },
     "metadata": {},
     "output_type": "display_data"
    }
   ],
   "source": [
    "%%html\n",
    "<object data=\"https://djmcnay.github.io/pandachartstore/PlotlyHTMLexJS/pokemon.html\" \n",
    "        width=\"650\"\n",
    "        height=\"400\">\n",
    "</object>"
   ]
  }
 ],
 "metadata": {
  "celltoolbar": "Tags",
  "kernelspec": {
   "display_name": "Python 3",
   "language": "python",
   "name": "python3"
  },
  "language_info": {
   "codemirror_mode": {
    "name": "ipython",
    "version": 3
   },
   "file_extension": ".py",
   "mimetype": "text/x-python",
   "name": "python",
   "nbconvert_exporter": "python",
   "pygments_lexer": "ipython3",
   "version": "3.7.3"
  }
 },
 "nbformat": 4,
 "nbformat_minor": 2
}
