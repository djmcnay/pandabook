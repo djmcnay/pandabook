{
 "cells": [
  {
   "cell_type": "code",
   "execution_count": 11,
   "metadata": {
    "tags": [
     "hidecode"
    ]
   },
   "outputs": [],
   "source": [
    "# Notebook Setup\n",
    "from IPython.display import display, HTML\n",
    "\n",
    "# Lambda function for HTML Object tag to embed another HTML file\n",
    "gitchartstore = 'https://djmcnay.github.io/pandachartstore/'\n",
    "htmlobj = lambda l, w=600, h=200: HTML(str('<object data=\\\"'+gitchartstore+l\n",
    "                                           +'\\\" width=\\\"'+str(w)\n",
    "                                           +'\\\" height=\\\"'+str(h)\n",
    "                                           +'\\\"</object>'))"
   ]
  },
  {
   "cell_type": "markdown",
   "metadata": {},
   "source": [
    "# Fixed Income"
   ]
  },
  {
   "cell_type": "markdown",
   "metadata": {},
   "source": [
    "### Pokemon Fair Value Bond Yields\n",
    "Fair Value of the 10-year nominal bond estimated as a multi-variate regression.\n",
    "\n",
    "$ FV_{x} = \\beta_{x,0} \n",
    "+\\beta_{x,1}\\times \\text{Short-Rates} \n",
    "+\\beta_{x,2} \\times \\text{Inflation}\n",
    "+\\beta_{x,3} \\times \\text{Growth}\n",
    "+\\beta_{x,4}\\times \\text{Global Factor}\n",
    "+\\epsilon_{x}$"
   ]
  },
  {
   "cell_type": "code",
   "execution_count": 12,
   "metadata": {
    "tags": [
     "hidecode"
    ]
   },
   "outputs": [
    {
     "data": {
      "text/html": [
       "<object data=\"https://djmcnay.github.io/pandachartstore/PlotlyHTMLexJS/pokemon.html\" width=\"600\" height=\"200\"</object>"
      ],
      "text/plain": [
       "<IPython.core.display.HTML object>"
      ]
     },
     "metadata": {},
     "output_type": "display_data"
    }
   ],
   "source": [
    "# with Lambda\n",
    "display(htmlobj('PlotlyHTMLexJS/pokemon.html'))"
   ]
  },
  {
   "cell_type": "code",
   "execution_count": 13,
   "metadata": {
    "tags": [
     "hidecode"
    ]
   },
   "outputs": [
    {
     "data": {
      "text/html": [
       "<object data=\"https://djmcnay.github.io/pandachartstore/PlotlyHTMLexJS/pokemon.html\" width=\"600\" height=\"200\"</object>"
      ],
      "text/plain": [
       "<IPython.core.display.HTML object>"
      ]
     },
     "execution_count": 13,
     "metadata": {},
     "output_type": "execute_result"
    }
   ],
   "source": [
    "# html split out\n",
    "l='PlotlyHTMLexJS/pokemon.html'\n",
    "HTML('<object data=\\\"'+gitchartstore+l+'\\\" width=\\\"'+str(600)+'\\\" height=\\\"'+str(200)+'\\\"</object>')"
   ]
  },
  {
   "cell_type": "code",
   "execution_count": 22,
   "metadata": {
    "tags": [
     "hidecode"
    ]
   },
   "outputs": [
    {
     "data": {
      "text/html": [
       "<object data=\"https://djmcnay.github.io/pandachartstore/PlotlyHTMLexJS/pokemon.html\" \n",
       "        width=\"750\"\n",
       "        height=\"500\">\n",
       "</object>"
      ],
      "text/plain": [
       "<IPython.core.display.HTML object>"
      ]
     },
     "metadata": {},
     "output_type": "display_data"
    }
   ],
   "source": [
    "%%html\n",
    "<object data=\"https://djmcnay.github.io/pandachartstore/PlotlyHTMLexJS/pokemon.html\" \n",
    "        width=\"750\"\n",
    "        height=\"500\">\n",
    "</object>"
   ]
  },
  {
   "cell_type": "code",
   "execution_count": 21,
   "metadata": {},
   "outputs": [
    {
     "data": {
      "text/html": [
       "<object data=\"https://djmcnay.github.io/pandachartstore/PlotlyHTMLexJS/pokemon.html\" width=\"800\" height=\"500\"></object>"
      ],
      "text/plain": [
       "<IPython.core.display.HTML object>"
      ]
     },
     "execution_count": 21,
     "metadata": {},
     "output_type": "execute_result"
    }
   ],
   "source": [
    "# html no tag\n",
    "HTML('''<object data=\"https://djmcnay.github.io/pandachartstore/PlotlyHTMLexJS/pokemon.html\" width=\"800\" height=\"500\"></object>''')\n",
    "\n"
   ]
  },
  {
   "cell_type": "code",
   "execution_count": 24,
   "metadata": {
    "scrolled": true,
    "tags": [
     "hidecode"
    ]
   },
   "outputs": [
    {
     "data": {
      "text/html": [
       "<object data=\"https://djmcnay.github.io/pandachartstore/PlotlyHTMLexJS/pokemon.html\" width=\"800\" height=\"500\"</object>"
      ],
      "text/plain": [
       "<IPython.core.display.HTML object>"
      ]
     },
     "execution_count": 24,
     "metadata": {},
     "output_type": "execute_result"
    }
   ],
   "source": [
    "# html hide tag\n",
    "HTML('''<object data=\\\"https://djmcnay.github.io/pandachartstore/PlotlyHTMLexJS/pokemon.html\\\" width=\\\"800\\\" height=\\\"500\\\"</object>''')\n",
    "\n"
   ]
  },
  {
   "cell_type": "code",
   "execution_count": null,
   "metadata": {},
   "outputs": [],
   "source": []
  }
 ],
 "metadata": {
  "celltoolbar": "Tags",
  "kernelspec": {
   "display_name": "Python 3",
   "language": "python",
   "name": "python3"
  },
  "language_info": {
   "codemirror_mode": {
    "name": "ipython",
    "version": 3
   },
   "file_extension": ".py",
   "mimetype": "text/x-python",
   "name": "python",
   "nbconvert_exporter": "python",
   "pygments_lexer": "ipython3",
   "version": "3.7.3"
  }
 },
 "nbformat": 4,
 "nbformat_minor": 2
}
