{
 "cells": [
  {
   "cell_type": "code",
   "execution_count": 1,
   "metadata": {},
   "outputs": [],
   "source": [
    "from IPython.display import display, HTML"
   ]
  },
  {
   "cell_type": "markdown",
   "metadata": {},
   "source": [
    "# Placeholder Page\n",
    "\n",
    "But seeing as you are here...\n",
    "\n",
    "![Cute Red Pandas](https://adorableanimals4lois.files.wordpress.com/2012/07/tumblr_lpfrzsyeie1qgxenqo1_500.jpg?w=620)\n",
    "\n",
    "... have a happy panda"
   ]
  },
  {
   "cell_type": "code",
   "execution_count": 2,
   "metadata": {},
   "outputs": [
    {
     "data": {
      "text/html": [
       "\n",
       "<html>\n",
       "    <head>\n",
       "      <script src=\"https://cdn.plot.ly/plotly-latest.min.js\"></script>\n",
       "      <style>body{margin:0 100}</style>\n",
       "    </head>\n",
       "    <body>\n",
       "        <object data=\"https://djmcnay.github.io/pandachartstore/PlotlyHTMLexJS/pokemon.html\"></object>\n",
       "    </body>\n",
       "</html>"
      ],
      "text/plain": [
       "<IPython.core.display.HTML object>"
      ]
     },
     "metadata": {},
     "output_type": "display_data"
    }
   ],
   "source": [
    "%%html\n",
    "\n",
    "<html>\n",
    "    <head>\n",
    "      <script src=\"https://cdn.plot.ly/plotly-latest.min.js\"></script>\n",
    "      <style>body{margin:0 100}</style>\n",
    "    </head>\n",
    "    <body>\n",
    "        <object data=\"https://djmcnay.github.io/pandachartstore/PlotlyHTMLexJS/pokemon.html\"></object>\n",
    "    </body>\n",
    "</html>"
   ]
  },
  {
   "cell_type": "code",
   "execution_count": 3,
   "metadata": {
    "scrolled": false
   },
   "outputs": [
    {
     "data": {
      "text/html": [
       "\n",
       "<html>\n",
       "    <head>\n",
       "      <script src=\"https://cdn.plot.ly/plotly-latest.min.js\"></script>\n",
       "    </head>\n",
       "    <body>\n",
       "        <object \n",
       "        data=\"https://djmcnay.github.io/pandachartstore/PlotlyHTML/pokemon.html\" \n",
       "        width=\"1000\" height=\"600\">\n",
       "        </object>\n",
       "    </body>\n",
       "</html>"
      ],
      "text/plain": [
       "<IPython.core.display.HTML object>"
      ]
     },
     "metadata": {},
     "output_type": "display_data"
    }
   ],
   "source": [
    "%%html\n",
    "\n",
    "<html>\n",
    "    <head>\n",
    "      <script src=\"https://cdn.plot.ly/plotly-latest.min.js\"></script>\n",
    "    </head>\n",
    "    <body>\n",
    "        <object \n",
    "        data=\"https://djmcnay.github.io/pandachartstore/PlotlyHTML/pokemon.html\" \n",
    "        width=\"1000\" height=\"600\">\n",
    "        </object>\n",
    "    </body>\n",
    "</html>"
   ]
  },
  {
   "cell_type": "markdown",
   "metadata": {},
   "source": [
    "## TEST of In-Situ Download"
   ]
  },
  {
   "cell_type": "code",
   "execution_count": 5,
   "metadata": {},
   "outputs": [
    {
     "data": {
      "text/html": [
       " \n",
       "        <html>\n",
       "            <head>\n",
       "              <script src=\"https://cdn.plot.ly/plotly-latest.min.js\"></script>\n",
       "              <link rel=\"stylesheet\" href=\"https://maxcdn.bootstrapcdn.com/bootstrap/3.3.1/css/bootstrap.min.css\">\n",
       "              <style>body{margin:0 100}</style>\n",
       "            </head>\n",
       "            <body>\n",
       "            test_delete.html\n",
       "            </body>\n",
       "        </html>"
      ],
      "text/plain": [
       "<IPython.core.display.HTML object>"
      ]
     },
     "metadata": {},
     "output_type": "display_data"
    }
   ],
   "source": [
    "# POKEMON\n",
    "from hongxiongmao import pokemon\n",
    "import plotly.offline as py\n",
    "\n",
    "p = pokemon.pokemon_go()\n",
    "p.download_and_run()\n",
    "p.plotlyplot()\n",
    "aPlot = py.plot(p.plot, filename='test_delete.html', auto_open=False, include_plotlyjs=False)\n",
    "\n",
    "def plotly_html_hack(plot):\n",
    "    html_template = \"\"\" \n",
    "        <html>\n",
    "            <head>\n",
    "              <script src=\"https://cdn.plot.ly/plotly-latest.min.js\"></script>\n",
    "              <link rel=\"stylesheet\" href=\"https://maxcdn.bootstrapcdn.com/bootstrap/3.3.1/css/bootstrap.min.css\">\n",
    "              <style>body{margin:0 100}</style>\n",
    "            </head>\n",
    "            <body>\n",
    "            \"\"\" + plot + \"\"\"\n",
    "            </body>\n",
    "        </html>\"\"\"\n",
    "    display(HTML(html_template))\n",
    "    \n",
    "plotly_html_hack(aPlot)"
   ]
  },
  {
   "cell_type": "code",
   "execution_count": null,
   "metadata": {},
   "outputs": [],
   "source": []
  }
 ],
 "metadata": {
  "kernelspec": {
   "display_name": "Python 3",
   "language": "python",
   "name": "python3"
  },
  "language_info": {
   "codemirror_mode": {
    "name": "ipython",
    "version": 3
   },
   "file_extension": ".py",
   "mimetype": "text/x-python",
   "name": "python",
   "nbconvert_exporter": "python",
   "pygments_lexer": "ipython3",
   "version": "3.7.3"
  }
 },
 "nbformat": 4,
 "nbformat_minor": 2
}
