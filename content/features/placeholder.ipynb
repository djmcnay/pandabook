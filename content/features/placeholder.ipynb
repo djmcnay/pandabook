{
 "cells": [
  {
   "cell_type": "code",
   "execution_count": 1,
   "metadata": {},
   "outputs": [],
   "source": [
    "# \n",
    "from IPython.display import display, HTML\n",
    "from urllib.request import urlopen"
   ]
  },
  {
   "cell_type": "markdown",
   "metadata": {},
   "source": [
    "# Placeholder Page\n",
    "\n",
    "But seeing as you are here...\n",
    "\n",
    "![Cute Red Pandas](https://adorableanimals4lois.files.wordpress.com/2012/07/tumblr_lpfrzsyeie1qgxenqo1_500.jpg?w=620)\n",
    "\n",
    "... have a happy panda"
   ]
  },
  {
   "cell_type": "code",
   "execution_count": 84,
   "metadata": {
    "scrolled": false
   },
   "outputs": [
    {
     "data": {
      "text/html": [
       "<div align=\"left\">\n",
       "<object data=\"https://djmcnay.github.io/pandachartstore/PlotlyHTMLexJS/pokemon.html\" width=\"800\" height=\"500\"></object>\n",
       "</div>"
      ],
      "text/plain": [
       "<IPython.core.display.HTML object>"
      ]
     },
     "metadata": {},
     "output_type": "display_data"
    }
   ],
   "source": [
    "%%html\n",
    "<div align=\"left\">\n",
    "<object data=\"https://djmcnay.github.io/pandachartstore/PlotlyHTMLexJS/pokemon.html\" width=\"800\" height=\"500\"></object>\n",
    "</div>"
   ]
  },
  {
   "cell_type": "markdown",
   "metadata": {},
   "source": [
    "### Within IPython Trying to Hide Code Cell"
   ]
  },
  {
   "cell_type": "code",
   "execution_count": 25,
   "metadata": {},
   "outputs": [
    {
     "data": {
      "text/html": [
       "\n",
       "<object data=\"https://djmcnay.github.io/pandachartstore/PlotlyHTMLexJS/pokemon.html\" width=\"800\" height=\"500\"></object>\n"
      ],
      "text/plain": [
       "<IPython.core.display.HTML object>"
      ]
     },
     "execution_count": 25,
     "metadata": {},
     "output_type": "execute_result"
    }
   ],
   "source": [
    "# HIDE CODE\n",
    "HTML('''<object data='''\"https://djmcnay.github.io/pandachartstore/PlotlyHTMLexJS/pokemon.html\" width=\"800\" height=\"500\"></object>\n",
    "''')"
   ]
  },
  {
   "cell_type": "code",
   "execution_count": 83,
   "metadata": {},
   "outputs": [
    {
     "data": {
      "text/html": [
       "<object data=\"https://djmcnay.github.io/pandachartstore/PlotlyHTMLexJS/pokemon.html\" width=\"800\" height=\"200\"</object>"
      ],
      "text/plain": [
       "<IPython.core.display.HTML object>"
      ]
     },
     "execution_count": 83,
     "metadata": {},
     "output_type": "execute_result"
    }
   ],
   "source": [
    "# Lambda function for HTML Object tag to embed another HTML file\n",
    "htmlobj = lambda l, w=800, h=200: HTML(str('<object data=\\\"https://djmcnay.github.io/pandachartstore/'+l\n",
    "                                  +'\\\" width=\\\"'+str(w)+'\\\" height=\\\"'+str(h)+'\\\"</object>'))\n",
    "htmlobj('PlotlyHTMLexJS/pokemon.html')"
   ]
  },
  {
   "cell_type": "code",
   "execution_count": 85,
   "metadata": {},
   "outputs": [
    {
     "name": "stdout",
     "output_type": "stream",
     "text": [
      "Code Should be Hidden\n"
     ]
    }
   ],
   "source": [
    "# HIDE CODE\n",
    "print('Code Should be Hidden')"
   ]
  },
  {
   "cell_type": "code",
   "execution_count": 86,
   "metadata": {},
   "outputs": [
    {
     "name": "stdout",
     "output_type": "stream",
     "text": [
      "Code Should be Hidden\n"
     ]
    }
   ],
   "source": [
    "{\n",
    "    \"tags\": [\n",
    "        \"hide_input\",\n",
    "    ]\n",
    "}\n",
    "print('Code Should be Hidden')"
   ]
  },
  {
   "cell_type": "code",
   "execution_count": null,
   "metadata": {},
   "outputs": [],
   "source": [
    "{\n",
    "    \"tags\": [\n",
    "        \"HIDE CODE\",\n",
    "    ]\n",
    "}\n",
    "print('Code Should be Hidden')"
   ]
  }
 ],
 "metadata": {
  "kernelspec": {
   "display_name": "Python 3",
   "language": "python",
   "name": "python3"
  },
  "language_info": {
   "codemirror_mode": {
    "name": "ipython",
    "version": 3
   },
   "file_extension": ".py",
   "mimetype": "text/x-python",
   "name": "python",
   "nbconvert_exporter": "python",
   "pygments_lexer": "ipython3",
   "version": "3.7.3"
  }
 },
 "nbformat": 4,
 "nbformat_minor": 2
}
