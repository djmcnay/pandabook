{
 "cells": [
  {
   "cell_type": "markdown",
   "metadata": {},
   "source": [
    "# Primer for the Pokemon Fair Value bond model\n",
    "\n",
    "The intuition behind the model presented here is relatively simple - the *\"Fair Value\"* of a long dated bond should be a function of short-term interest rates, inflation and economic growth. Additionally as capital allocation becomes increasing global it is reasonable that our *\"Fair Value\"* should include a global factor.\n",
    "\n",
    "\n",
    "$ FV_{x} = \\beta_{x,0} \n",
    "+\\beta_{x,1}\\times \\text{Rates} \n",
    "+\\beta_{x,2} \\times \\text{Inf}\n",
    "+\\beta_{x,3} \\times \\text{Growth}\n",
    "+\\beta_{x,4}\\times \\text{Global}\n",
    "+\\epsilon_{x}$\n",
    "\n",
    "Mathematically we are indifferent to the choice of input, as we are simply calculating a multi-variate linear regression over several rolling windows; practically variable selection is probably the most challenging part of the model. If we assume markets attempt to incorporate forward estimates into prices than similarly we would prefer to incorporate forward looking macro variables into our estimates. Exact inputs are covered below, but in general:\n",
    "* Short-Rates - forward path of cash rates is modelled by the current 2-year rate\n",
    "* Inflation - ideally taken from market implied inflation from breakeven rates or inflation swaps\n",
    "* Growth - survey based (ISM) or from Composite Leading Indicators like the [OECD CLIs](http://www.oecd.org/sdd/leading-indicators/)\n",
    "* Global Factor - **most difficult** but could be the [BIS REER](https://www.bis.org/statistics/eer.htm) or a blend of global bonds"
   ]
  },
  {
   "cell_type": "markdown",
   "metadata": {},
   "source": [
    "## Fair Value Output"
   ]
  },
  {
   "cell_type": "code",
   "execution_count": null,
   "metadata": {},
   "outputs": [],
   "source": []
  },
  {
   "cell_type": "markdown",
   "metadata": {},
   "source": [
    "## Sample Python Code\n",
    "\n",
    "Where the Pokemon FV model has been presented elsewhere in the chartbook it has been calculated using a homemade class function - eventually this will be wrapped and posted to PyPi - but the code below is a sample of what is happening."
   ]
  },
  {
   "cell_type": "code",
   "execution_count": 4,
   "metadata": {},
   "outputs": [],
   "source": [
    "def pokemon(df, window=36, valiadate_data=True):\n",
    "    # REQUIREMENTS:\n",
    "    #    from sklearn.linear_model import LinearRegression\n",
    "    # INPUTS:\n",
    "    #    df - DataFrame with datetimeindex, col[0] as long bond & col[1+] as regression variables\n",
    "    #    window - rolling regression window; default is 36 months\n",
    "    #    validate_data - forward fills missing data (useful where we may be missing current month)\n",
    "    # OUTPUTS:\n",
    "    #    guess - DataFrame with long-bond, full sample and rolling model outputs\n",
    "    #    stats - coefficients for each thingy\n",
    "    \n",
    "    if valiadate_data is True:\n",
    "        df.fillna(method='ffill', inplace=True)   # Forward fill missing data\n",
    "        df = df[~df.isna().any(axis=1)]           # Each row complete\n",
    "        \n",
    "    # Dummy Dataframe(s)\n",
    "    guess = pd.DataFrame(data=df.iloc[:,0])\n",
    "    guess.columns = ['long_bond']\n",
    "    coeff_vn = ['r2', 'intercept']\n",
    "    coeff_vn.extend(list(df.columns.values)[1:])\n",
    "    stats = pd.DataFrame(columns=coeff_vn)\n",
    "        \n",
    "    # Full Sample Period\n",
    "    y, X = df.iloc[:,0], df.iloc[:,1:]\n",
    "    lm = LinearRegression().fit(X,y)\n",
    "    guess['full_sample'] = lm.predict(X)\n",
    "    stats.loc['full_sample',['r2','intercept']]=lm.score(X, y),lm.intercept_\n",
    "    stats.loc['full_sample'].iloc[2:] = lm.coef_\n",
    "        \n",
    "    # Rolling Window\n",
    "    for i, v in enumerate(guess.index):   \n",
    "        if i < window:\n",
    "            continue\n",
    "            \n",
    "        y = df.iloc[i-window:i,0]     # Dependant Var [long bond]\n",
    "        X = df.iloc[i-window:i,1:]    # Independant [short, inf, growth]\n",
    "        roll_lm = LinearRegression().fit(X,y)\n",
    "        guess.loc[v,'rolling'] = roll_lm.predict(X)[-1]\n",
    "        stats.loc[v,['r2', 'intercept']] = roll_lm.score(X, y), lm.intercept_\n",
    "        stats.loc[v].iloc[2:] = roll_lm.coef_ \n",
    "\n",
    "    return guess, stats"
   ]
  },
  {
   "cell_type": "markdown",
   "metadata": {},
   "source": [
    "## Data Sources\n",
    "\n",
    "All data is open sourced and comes from [Quandl](www.quandl.com). For the Pokemon model this means a compromise between what we would consider to be the optimal data and what is easily achievable. Below note the data used here (and consider some better data).\n",
    "\n",
    "__US Treasuries__\n",
    "* [US Treasury](https://www.quandl.com/data/USTREASURY/YIELD-Treasury-Yield-Curve-Rates) for nominal 10 & 2 year yields\n",
    "* [UMich](https://www.quandl.com/data/UMICH/SOC33-University-of-Michigan-Consumer-Survey-Expected-Change-in-Prices-During-the-Next-5-Years) 5-year Median Inflation Expectations\n",
    "* [ISM Mfg Composite](https://www.quandl.com/data/ISM/MAN_PMI-PMI-Composite-Index) for Growth estimates\n",
    "\n",
    "__Gilts__\n",
    "* [Bank-of-England](https://www.quandl.com/data/BOE/IUDMNZC-Yield-From-British-Government-Securities-10-Year-Nominal-Zero-Coupon) 10-year Nominal Zero-Coupon as a proxy for the standard nominal\n",
    "* [ECB](https://www.quandl.com/data/ECB/FM_M_GB_GBP_RT_MM_GBP3MFSR__HSTA-United-Kingdom-Money-Market-GB-Pound-Sterling-3-month-British-Bankers-Association-Libor-Historical-close-average-of-observations-through-period-UK-pound-sterling-provided-by-Reuters) provide the 3m GBP LIBOR rate; need a better source but the BoE doesn't publish the 2 (or 1) year gilt yields or forward rate data. \n",
    "* [Rate Inflation](https://www.quandl.com/data/RATEINF/INFLATION_GBR-Inflation-YOY-UK)\n",
    "* [OECD Amplitude-Adjusted Composite Leading Indicator](https://www.quandl.com/data/OECD/MEI_CLI_LOLITOAA_GBR_M-Amplitude-Adjusted-Cli-United-Kingdom)\n",
    "\n",
    "__Bunds__\n",
    "* Bundesbank for the [10-year](https://www.quandl.com/data/BUNDESBANK/BBK01_WT1010-Daily-Yield-Of-The-Current-10-Year-Federal-Bond) & [2-year](https://www.quandl.com/data/BUNDESBANK/BBK01_WT0202-Daily-Yield-Of-The-Current-two-year-Federal-Treasury-Notes) Bund yield. This needs further investigation as the Quandl dataset for the German 2-year only goes back to Jan-14, *which isn't enough for a sensible full-sample model*\n",
    "* [Rate Inflation](https://www.quandl.com/data/RATEINF/INFLATION_DEU-Inflation-YOY-Germany)\n",
    "* [OECD Amplitude-Adjusted Composite Leading Indicator](https://www.quandl.com/data/OECD/MEI_CLI_LOLITOAA_DEU_M-Amplitude-Adjusted-Cli-Germany)\n",
    "\n",
    "__JGBs__\n",
    "* [Ministry of Finance Japan]() for the [10-year](https://www.quandl.com/data/MOFJ/INTEREST_RATE_JAPAN_10Y-JGB-Interest-Rates-Term-Structure-10Y) & [2-year](https://www.quandl.com/data/MOFJ/INTEREST_RATE_JAPAN_2Y-JGB-Interest-Rates-Term-Structure-2Y) JGBs\n",
    "* [Rate Inflation](https://www.quandl.com/data/RATEINF/INFLATION_JPN)\n",
    "* [OECD Amplitude-Adjusted Composite Leading Indicator](https://www.quandl.com/data/OECD/MEI_CLI_LOLITOAA_JPN_M-Amplitude-Adjusted-Cli-Japan)"
   ]
  },
  {
   "cell_type": "markdown",
   "metadata": {},
   "source": [
    "## Small Print\n",
    "\n",
    "It should come as no surprise that the concept presented here is not new. Any CFA candidate who has has been even vaguely dilligent should recognise the basis. [NDR](https://www.ndr.com/group/ndr/content-viewer/-/v/B0410A) do some excellent modelling and often present a simplified version and [Goldman Sachs Research](https://research.gs.com/) have been incorporating a [forward looking Sudoku Fair Value](http://www.verstyuk.net/papers/GlobalViewpoint.07-24.pdf) model in their Fixed Income research since 2007; the GS model is probably superior as they take more time developing a trade-weighted variable for the *\"Global\"* factor.\n",
    "\n",
    "Pokemon is indeed a nod to the childrens cartoon series. The point at which the model was developed happened to coincide with the Pokemon Go phenomenon in the UK during which time several PMs and Analysts were found wondering Green Park in London in search of Pokemon."
   ]
  },
  {
   "cell_type": "code",
   "execution_count": null,
   "metadata": {},
   "outputs": [],
   "source": []
  }
 ],
 "metadata": {
  "kernelspec": {
   "display_name": "Python 3",
   "language": "python",
   "name": "python3"
  },
  "language_info": {
   "codemirror_mode": {
    "name": "ipython",
    "version": 3
   },
   "file_extension": ".py",
   "mimetype": "text/x-python",
   "name": "python",
   "nbconvert_exporter": "python",
   "pygments_lexer": "ipython3",
   "version": "3.7.3"
  }
 },
 "nbformat": 4,
 "nbformat_minor": 2
}
