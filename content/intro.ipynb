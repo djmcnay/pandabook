{
 "cells": [
  {
   "cell_type": "markdown",
   "metadata": {},
   "source": [
    "# Pontificating Panda Chartbook"
   ]
  },
  {
   "cell_type": "markdown",
   "metadata": {},
   "source": []
  },
  {
   "cell_type": "markdown",
   "metadata": {},
   "source": [
    "## Existential Crisis\n",
    "Having made the decision to switch from Matlab to Python, the Pontificating Panda Chartbook started as a *\"real world\"* Python project to aid in the transition. The original objective was to create a selection of curated, dynamically updating, financial market and economic charts using only Open-Source data; as things have developed I'm including some models, research and blog pieces.\n",
    "\n",
    "*\"Caveat emptor\"* whilst ~~every~~ some effort has been made to validate the data herein, you are given **fair warning not to trust anything**. Ignoring the fact the whole point was to use Open-Source (therefore somewhat unreliable) data, this is a hobby project so I making no promises this will be continuously updated nor that the model code is fully tested. With that said all the GitHub repo's are public so you are welcome to pop the hood and tinker underneath."
   ]
  },
  {
   "cell_type": "markdown",
   "metadata": {},
   "source": [
    "## About Me\n",
    "Professional fund manager; have-a-go-hero Data Scientist; retired Divemaster and mediocre Jiu-Jitsu player.\n",
    "\n",
    "I joined the Investment industry with HSBC in London in 2008 during the depths of the Global Financial Crisis, and for the last decade or so have specialised in cross-asset investing. Being slightly less vague, I'm a Portfolio Manager for a large asset-manager and run risk-managed, global multi-asset fund solutions. Whilst this site isn't here to serve as professional publicity, my [LinkedIn](https://www.linkedin.com/in/david-mcnay-9b582136/) profile is linked attached and you can visit [Morningstar](http://www.morningstar.co.uk/uk/funds/snapshot/snapshot.aspx?id=F00000V3B8) for performance details of the flagship fund.\n",
    "\n",
    "<a href=\"https://www.linkedin.com/in/david-mcnay-9b582136/\">\n",
    "<img src=\"images/logo/li_logo.svg\" class=\"left\" width=\"100px\">\n",
    "</a>\n"
   ]
  },
  {
   "cell_type": "markdown",
   "metadata": {},
   "source": [
    "## Acknowledgements\n",
    "\n",
    "Jupyter Books was originally created by [Sam Lau][sam] and [Chris Holdgraf][chris]\n",
    "with support of the **UC Berkeley Data Science Education Program and the Berkeley\n",
    "Institute for Data Science**.\n",
    "\n",
    "[sam]: http://www.samlau.me/\n",
    "[chris]: https://predictablynoisy.com"
   ]
  }
 ],
 "metadata": {
  "kernelspec": {
   "display_name": "Python 3",
   "language": "python",
   "name": "python3"
  },
  "language_info": {
   "codemirror_mode": {
    "name": "ipython",
    "version": 3
   },
   "file_extension": ".py",
   "mimetype": "text/x-python",
   "name": "python",
   "nbconvert_exporter": "python",
   "pygments_lexer": "ipython3",
   "version": "3.7.3"
  }
 },
 "nbformat": 4,
 "nbformat_minor": 2
}
