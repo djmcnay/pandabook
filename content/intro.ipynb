{
 "cells": [
  {
   "cell_type": "markdown",
   "metadata": {},
   "source": [
    "# Pontificating Panda Chartbook\n",
    "\n",
    "The Pontificating Panda Chartbook started in 2018 as a *\"real world\"* Python project, with the objective of creating a selection of curated financial market and economic charts using only Open-Source data. As things have developed I'm including some models, research and blog pieces.\n",
    "\n",
    "*\"Caveat emptor\"* whilst ~~every~~ some effort has been made to validate the data herein, you are given **fair warning not to trust anything**. Ignoring the fact the whole point was to use Open-Source (therefore somewhat unreliable) data, this is a hobby project so I making no promises this will be continuously updated nor that the model code is fully tested. With that said, I've made the GitHub repo's public so you are welcome to explore.\n"
   ]
  },
  {
   "cell_type": "markdown",
   "metadata": {},
   "source": [
    "## About Me\n",
    "<a href=\"https://www.linkedin.com/in/david-mcnay-9b582136/\">\n",
    "<img src=\"images/logo/In-Blue-128.png\" class=\"left\" width=\"35px\">\n",
    "</a>\n",
    "\n",
    "By profession I am a Multi-Asset Portfolio Manager, running risk managed portfolio solutions.\n",
    "\n"
   ]
  },
  {
   "cell_type": "markdown",
   "metadata": {},
   "source": [
    "## Acknowledgements\n",
    "\n",
    "Jupyter Books was originally created by [Sam Lau][sam] and [Chris Holdgraf][chris]\n",
    "with support of the **UC Berkeley Data Science Education Program and the Berkeley\n",
    "Institute for Data Science**.\n",
    "\n",
    "[sam]: http://www.samlau.me/\n",
    "[chris]: https://predictablynoisy.com"
   ]
  },
  {
   "cell_type": "code",
   "execution_count": null,
   "metadata": {},
   "outputs": [],
   "source": []
  }
 ],
 "metadata": {
  "kernelspec": {
   "display_name": "Python 3",
   "language": "python",
   "name": "python3"
  },
  "language_info": {
   "codemirror_mode": {
    "name": "ipython",
    "version": 3
   },
   "file_extension": ".py",
   "mimetype": "text/x-python",
   "name": "python",
   "nbconvert_exporter": "python",
   "pygments_lexer": "ipython3",
   "version": "3.7.3"
  }
 },
 "nbformat": 4,
 "nbformat_minor": 2
}
