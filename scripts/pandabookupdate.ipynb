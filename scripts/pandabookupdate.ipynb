{
 "cells": [
  {
   "cell_type": "markdown",
   "metadata": {},
   "source": [
    "# PandaBook Update Script"
   ]
  },
  {
   "cell_type": "code",
   "execution_count": 34,
   "metadata": {},
   "outputs": [
    {
     "name": "stdout",
     "output_type": "stream",
     "text": [
      "/Users/David/Dropbox/Python\n",
      "/Users/David/anaconda3/lib/python3.7/site-packages/jupyter_book/build.py:130: YAMLLoadWarning: calling yaml.load() without Loader=... is deprecated, as the default Loader is unsafe. Please read https://msg.pyyaml.org/load for full details.\n",
      "  site_yaml = yaml.load(ff.read())\n",
      "/Users/David/anaconda3/lib/python3.7/site-packages/jupyter_book/build.py:139: YAMLLoadWarning: calling yaml.load() without Loader=... is deprecated, as the default Loader is unsafe. Please read https://msg.pyyaml.org/load for full details.\n",
      "  toc = yaml.load(ff.read())\n",
      "Convert and copy notebook/md files...\n",
      " 50%|██████████████████████                      | 7/14 [00:01<00:01,  3.66it/s]\n",
      "Traceback (most recent call last):\n",
      "  File \"/Users/David/anaconda3/bin/jupyter-book\", line 10, in <module>\n",
      "    sys.exit(main())\n",
      "  File \"/Users/David/anaconda3/lib/python3.7/site-packages/jupyter_book/main.py\", line 29, in main\n",
      "    commands[args.command]()\n",
      "  File \"/Users/David/anaconda3/lib/python3.7/site-packages/jupyter_book/commands/build.py\", line 52, in build\n",
      "    PATH_TEMPLATE, local_build, execute, overwrite)\n",
      "  File \"/Users/David/anaconda3/lib/python3.7/site-packages/jupyter_book/build.py\", line 177, in build_book\n",
      "    path_url_page, SUPPORTED_FILE_SUFFIXES))\n",
      "ValueError: \n",
      "\n",
      "\u001b[91m==========\u001b[0m\n",
      "Could not find file called /Users/David/Dropbox/Python/pandabook/content/features/features with any of these extensions: ['.ipynb', '.md']\n",
      "\u001b[91m==========\u001b[0m\n",
      "\n",
      "/Users/David/Dropbox/Python/pandabook\n",
      "[master 9aeedd4] updating intro page\n",
      " 5 files changed, 232 insertions(+), 24 deletions(-)\n",
      " create mode 100644 _build/features/correlations.md\n",
      " create mode 100644 content/features/Untitled.ipynb\n",
      " create mode 100644 content/features/correlations.ipynb\n",
      "Counting objects: 13, done.\n",
      "Delta compression using up to 4 threads.\n",
      "Compressing objects: 100% (12/12), done.\n",
      "Writing objects: 100% (13/13), 3.14 KiB | 803.00 KiB/s, done.\n",
      "Total 13 (delta 5), reused 0 (delta 0)\n",
      "remote: Resolving deltas: 100% (5/5), completed with 5 local objects.\u001b[K\n",
      "To https://github.com/djmcnay/pandabook\n",
      "   1aa4a4a..9aeedd4  master -> master\n"
     ]
    }
   ],
   "source": [
    "# build chartbook as jupyter-book from pandabook folder\n",
    "% cd /Users/David/Dropbox/Python\n",
    "! jupyter-book build pandabook\n",
    "\n",
    "# change dir to final book [! cd doesnt work in jupyter]\n",
    "% cd /Users/David/Dropbox/Python/pandabook/  \n",
    "\n",
    "# Do the whole git thing\n",
    "! git add ./*                  # add all files to git staging area\n",
    "! git commit -m \"updating intro page\"\n",
    "! git push origin master       # push to master branch"
   ]
  },
  {
   "cell_type": "code",
   "execution_count": null,
   "metadata": {},
   "outputs": [],
   "source": []
  }
 ],
 "metadata": {
  "kernelspec": {
   "display_name": "Python 3",
   "language": "python",
   "name": "python3"
  },
  "language_info": {
   "codemirror_mode": {
    "name": "ipython",
    "version": 3
   },
   "file_extension": ".py",
   "mimetype": "text/x-python",
   "name": "python",
   "nbconvert_exporter": "python",
   "pygments_lexer": "ipython3",
   "version": "3.7.3"
  }
 },
 "nbformat": 4,
 "nbformat_minor": 2
}
