{
 "cells": [
  {
   "cell_type": "markdown",
   "metadata": {},
   "source": [
    "# PandaBook Update Script"
   ]
  },
  {
   "cell_type": "code",
   "execution_count": 5,
   "metadata": {},
   "outputs": [
    {
     "name": "stdout",
     "output_type": "stream",
     "text": [
      "/Users/David/Dropbox/Python\n",
      "/Users/David/anaconda3/lib/python3.7/site-packages/jupyter_book/build.py:130: YAMLLoadWarning: calling yaml.load() without Loader=... is deprecated, as the default Loader is unsafe. Please read https://msg.pyyaml.org/load for full details.\n",
      "  site_yaml = yaml.load(ff.read())\n",
      "/Users/David/anaconda3/lib/python3.7/site-packages/jupyter_book/build.py:139: YAMLLoadWarning: calling yaml.load() without Loader=... is deprecated, as the default Loader is unsafe. Please read https://msg.pyyaml.org/load for full details.\n",
      "  toc = yaml.load(ff.read())\n",
      "Convert and copy notebook/md files...\n",
      "100%|████████████████████████████████████████| 14/14 [00:00<00:00, 15538.57it/s]\n",
      "Copying non-content files inside `content/`...\n",
      "\u001b[92m\n",
      "\n",
      "================================================================================\n",
      "\n",
      "\u001b[0m\n",
      "Generated 0 new files\n",
      "Skipped 13 already-built files\n",
      "Delete the markdown files in '_build' for any pages that you wish to re-build, or use --overwrite option to re-build all.\n",
      "Your Jupyter Book is now in `_build/`.\n",
      "Demo your Jupyter book with `make serve` or push to GitHub!\n",
      "\u001b[92m\n",
      "\n",
      "================================================================================\n",
      "\n",
      "\u001b[0m\n",
      "/Users/David/Dropbox/Python/pandabook\n",
      "[master 4c0aa1e] moving update script\n",
      " 1 file changed, 35 insertions(+), 2 deletions(-)\n",
      "Counting objects: 4, done.\n",
      "Delta compression using up to 4 threads.\n",
      "Compressing objects: 100% (4/4), done.\n",
      "Writing objects: 100% (4/4), 1.57 KiB | 1.57 MiB/s, done.\n",
      "Total 4 (delta 1), reused 0 (delta 0)\n",
      "remote: Resolving deltas: 100% (1/1), completed with 1 local object.\u001b[K\n",
      "To https://github.com/djmcnay/pandabook\n",
      "   f7095ce..4c0aa1e  master -> master\n"
     ]
    }
   ],
   "source": [
    "# build chartbook as jupyter-book from pandabook folder\n",
    "% cd /Users/David/Dropbox/Python\n",
    "! jupyter-book build pandabook\n",
    "\n",
    "# change dir to final book [! cd doesn't work in jupyter]\n",
    "% cd /Users/David/Dropbox/Python/pandabook/  \n",
    "\n",
    "# Do the whole git thing\n",
    "! git add ./*                  # add all files to git staging area\n",
    "! git commit -m \"moving update script\"\n",
    "! git push origin master       # push to master branch"
   ]
  },
  {
   "cell_type": "code",
   "execution_count": null,
   "metadata": {},
   "outputs": [],
   "source": []
  }
 ],
 "metadata": {
  "kernelspec": {
   "display_name": "Python 3",
   "language": "python",
   "name": "python3"
  },
  "language_info": {
   "codemirror_mode": {
    "name": "ipython",
    "version": 3
   },
   "file_extension": ".py",
   "mimetype": "text/x-python",
   "name": "python",
   "nbconvert_exporter": "python",
   "pygments_lexer": "ipython3",
   "version": "3.7.3"
  }
 },
 "nbformat": 4,
 "nbformat_minor": 2
}
